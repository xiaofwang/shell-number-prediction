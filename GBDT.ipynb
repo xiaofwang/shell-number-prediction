{
 "cells": [
  {
   "cell_type": "code",
   "execution_count": null,
   "id": "initial_id",
   "metadata": {
    "collapsed": true
   },
   "outputs": [],
   "source": [
    "import pandas as pd\n",
    "import numpy as np\n",
    "from sklearn.ensemble import GradientBoostingClassifier\n",
    "from sklearn.model_selection import train_test_split, GridSearchCV\n",
    "from imblearn.over_sampling import RandomOverSampler"
   ]
  },
  {
   "metadata": {},
   "cell_type": "code",
   "outputs": [],
   "execution_count": null,
   "source": [
    "path = './data/descriptor_binary.csv'\n",
    "df = pd.read_csv(path)\n",
    "x = df.drop(['shell_number'], axis=1)\n",
    "y = df['shell_number']\n"
   ],
   "id": "1e066341ddbf43c4"
  },
  {
   "metadata": {},
   "cell_type": "code",
   "outputs": [],
   "execution_count": null,
   "source": [
    "random_state = 11\n",
    "x_train, x_test, y_train, y_test = train_test_split(x, y, test_size=0.2, random_state=random_state)\n",
    "ros = RandomOverSampler(random_state=random_state)\n",
    "x_resampled, y_resampled = ros.fit_resample(x_train, y_train)\n"
   ],
   "id": "492699ad584d47bf"
  },
  {
   "metadata": {},
   "cell_type": "code",
   "outputs": [],
   "execution_count": null,
   "source": "gbdt = GradientBoostingClassifier(random_state=random_state)",
   "id": "8a19ebbb35029810"
  },
  {
   "metadata": {},
   "cell_type": "code",
   "outputs": [],
   "execution_count": null,
   "source": [
    "param_grid = {\n",
    "    'n_estimators': np.linspace(10,100,5),\n",
    "    'learning_rate': np.linspace(0.1,0.2,5),\n",
    "    'max_features': np.linspace(0.1, 1, 5),\n",
    "    'min_samples_leaf': np.linspace(10,100,5),\n",
    "    'min_samples_split': np.linspace(3,30,5),\n",
    "    'max_depth': np.linspace(3,5),\n",
    "    'subsample': np.linspace(0.5,1,5),\n",
    "}\n",
    "\n",
    "grid_search = GridSearchCV(\n",
    "    estimator=gbdt,\n",
    "    param_grid=param_grid,\n",
    "    scoring='accuracy',\n",
    "    cv=10\n",
    ")\n",
    "\n",
    "grid_search.fit(x,y)\n"
   ],
   "id": "b94c52d9d7f0c7d1"
  },
  {
   "metadata": {},
   "cell_type": "code",
   "outputs": [],
   "execution_count": null,
   "source": [
    "from scipy.stats import uniform, randint\n",
    "from sklearn.model_selection import RandomizedSearchCV\n",
    "param_dist = {\n",
    "    'n_estimators': randint(50, 150),\n",
    "    'learning_rate': uniform(0.1, 0.2),\n",
    "    'max_features': uniform(0.1, 1),\n",
    "    'min_samples_leaf': randint(10, 50),\n",
    "    'min_samples_split': randint(2, 20),\n",
    "    'max_depth': randint(3, 15),\n",
    "    'subsample': uniform(0.5, 1.0)\n",
    "}\n",
    "random_search = RandomizedSearchCV(\n",
    "    estimator=gbdt,\n",
    "    param_distributions=param_dist,\n",
    "    n_iter=100,\n",
    "    cv=5,\n",
    "    scoring='accuracy',\n",
    "    random_state=random_state)\n",
    "\n",
    "random_search.fit(x, y)\n",
    "\n",
    "best_params = random_search.best_params_\n",
    "print(\"最优参数组合:\", best_params)\n",
    "best_accuracy = random_search.best_score_\n",
    "\n",
    "best_gbdt = gbdt.set_params(**best_params)\n",
    "cv_results = cross_validate(best_gbdt, x, y, cv=skf, scoring=scoring)\n",
    "print(cv_results['test_accuracy'].mean())"
   ],
   "id": "453ffaf07616c758"
  },
  {
   "metadata": {},
   "cell_type": "code",
   "outputs": [],
   "execution_count": null,
   "source": "",
   "id": "29c591b1bf78d821"
  }
 ],
 "metadata": {
  "kernelspec": {
   "display_name": "Python 3",
   "language": "python",
   "name": "python3"
  },
  "language_info": {
   "codemirror_mode": {
    "name": "ipython",
    "version": 2
   },
   "file_extension": ".py",
   "mimetype": "text/x-python",
   "name": "python",
   "nbconvert_exporter": "python",
   "pygments_lexer": "ipython2",
   "version": "2.7.6"
  }
 },
 "nbformat": 4,
 "nbformat_minor": 5
}
