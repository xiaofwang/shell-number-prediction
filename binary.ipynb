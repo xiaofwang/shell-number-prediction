{
 "cells": [
  {
   "cell_type": "code",
   "id": "initial_id",
   "metadata": {
    "collapsed": true,
    "ExecuteTime": {
     "end_time": "2024-12-11T02:33:25.866908Z",
     "start_time": "2024-12-11T02:33:25.858061Z"
    }
   },
   "source": [
    "import pandas as pd\n",
    "import matplotlib.pyplot as plt\n",
    "from sklearn.neural_network import MLPClassifier\n",
    "import numpy as np\n",
    "from sklearn.model_selection import train_test_split\n",
    "from sklearn.ensemble import RandomForestClassifier, GradientBoostingClassifier\n",
    "from sklearn.naive_bayes import GaussianNB\n",
    "from sklearn.svm import SVC\n",
    "from sklearn.neighbors import KNeighborsClassifier\n",
    "\n",
    "import warnings\n",
    "warnings.filterwarnings(\"ignore\")"
   ],
   "outputs": [],
   "execution_count": 2
  },
  {
   "metadata": {},
   "cell_type": "markdown",
   "source": "### 读取数据",
   "id": "6c8fe26a052502fa"
  },
  {
   "metadata": {
    "ExecuteTime": {
     "end_time": "2024-12-11T02:33:26.104537Z",
     "start_time": "2024-12-11T02:33:26.002095Z"
    }
   },
   "cell_type": "code",
   "source": [
    "path = './data/descriptor_binary.csv'\n",
    "df = pd.read_csv(path)\n",
    "print(df.shape)\n",
    "display(df.head())\n",
    "x = df.drop(['shell_number'], axis=1)\n",
    "y = df['shell_number']\n",
    "print(x.shape, y.shape)\n",
    "print(y.value_counts())"
   ],
   "id": "db09fa7fed7de9db",
   "outputs": [
    {
     "name": "stdout",
     "output_type": "stream",
     "text": [
      "(316, 35)\n"
     ]
    },
    {
     "data": {
      "text/plain": [
       "    Li       C       O   Mg   Si      Ca   Ti    V   Cr      Mn  ...  acid  \\\n",
       "0  0.0  0.0000  0.5714  0.0  0.0  0.0000  0.0  0.0  0.0  0.0000  ...     0   \n",
       "1  0.0  0.2000  0.6000  0.0  0.0  0.2000  0.0  0.0  0.0  0.0000  ...     0   \n",
       "2  0.0  0.1429  0.5714  0.0  0.0  0.1429  0.0  0.0  0.0  0.1429  ...     0   \n",
       "3  0.0  0.1429  0.5714  0.0  0.0  0.1429  0.0  0.0  0.0  0.1429  ...     0   \n",
       "4  0.0  0.1429  0.5714  0.0  0.0  0.1429  0.0  0.0  0.0  0.1429  ...     0   \n",
       "\n",
       "   water  ethanol  glycol  acetone  cms  adsorption     heat1     heat2  \\\n",
       "0  1.000    0.000     0.0      0.0    0   -0.442356 -0.082689 -0.097866   \n",
       "1  0.333    0.667     0.0      0.0    0    0.098284 -0.117065 -0.096148   \n",
       "2  0.333    0.667     0.0      0.0    0    0.117059 -0.117065 -0.096148   \n",
       "3  0.333    0.667     0.0      0.0    0    0.145208 -0.117065 -0.096148   \n",
       "4  0.333    0.667     0.0      0.0    0    0.106326 -0.117065 -0.096148   \n",
       "\n",
       "   shell_number  \n",
       "0             0  \n",
       "1             1  \n",
       "2             1  \n",
       "3             1  \n",
       "4             1  \n",
       "\n",
       "[5 rows x 35 columns]"
      ],
      "text/html": [
       "<div>\n",
       "<style scoped>\n",
       "    .dataframe tbody tr th:only-of-type {\n",
       "        vertical-align: middle;\n",
       "    }\n",
       "\n",
       "    .dataframe tbody tr th {\n",
       "        vertical-align: top;\n",
       "    }\n",
       "\n",
       "    .dataframe thead th {\n",
       "        text-align: right;\n",
       "    }\n",
       "</style>\n",
       "<table border=\"1\" class=\"dataframe\">\n",
       "  <thead>\n",
       "    <tr style=\"text-align: right;\">\n",
       "      <th></th>\n",
       "      <th>Li</th>\n",
       "      <th>C</th>\n",
       "      <th>O</th>\n",
       "      <th>Mg</th>\n",
       "      <th>Si</th>\n",
       "      <th>Ca</th>\n",
       "      <th>Ti</th>\n",
       "      <th>V</th>\n",
       "      <th>Cr</th>\n",
       "      <th>Mn</th>\n",
       "      <th>...</th>\n",
       "      <th>acid</th>\n",
       "      <th>water</th>\n",
       "      <th>ethanol</th>\n",
       "      <th>glycol</th>\n",
       "      <th>acetone</th>\n",
       "      <th>cms</th>\n",
       "      <th>adsorption</th>\n",
       "      <th>heat1</th>\n",
       "      <th>heat2</th>\n",
       "      <th>shell_number</th>\n",
       "    </tr>\n",
       "  </thead>\n",
       "  <tbody>\n",
       "    <tr>\n",
       "      <th>0</th>\n",
       "      <td>0.0</td>\n",
       "      <td>0.0000</td>\n",
       "      <td>0.5714</td>\n",
       "      <td>0.0</td>\n",
       "      <td>0.0</td>\n",
       "      <td>0.0000</td>\n",
       "      <td>0.0</td>\n",
       "      <td>0.0</td>\n",
       "      <td>0.0</td>\n",
       "      <td>0.0000</td>\n",
       "      <td>...</td>\n",
       "      <td>0</td>\n",
       "      <td>1.000</td>\n",
       "      <td>0.000</td>\n",
       "      <td>0.0</td>\n",
       "      <td>0.0</td>\n",
       "      <td>0</td>\n",
       "      <td>-0.442356</td>\n",
       "      <td>-0.082689</td>\n",
       "      <td>-0.097866</td>\n",
       "      <td>0</td>\n",
       "    </tr>\n",
       "    <tr>\n",
       "      <th>1</th>\n",
       "      <td>0.0</td>\n",
       "      <td>0.2000</td>\n",
       "      <td>0.6000</td>\n",
       "      <td>0.0</td>\n",
       "      <td>0.0</td>\n",
       "      <td>0.2000</td>\n",
       "      <td>0.0</td>\n",
       "      <td>0.0</td>\n",
       "      <td>0.0</td>\n",
       "      <td>0.0000</td>\n",
       "      <td>...</td>\n",
       "      <td>0</td>\n",
       "      <td>0.333</td>\n",
       "      <td>0.667</td>\n",
       "      <td>0.0</td>\n",
       "      <td>0.0</td>\n",
       "      <td>0</td>\n",
       "      <td>0.098284</td>\n",
       "      <td>-0.117065</td>\n",
       "      <td>-0.096148</td>\n",
       "      <td>1</td>\n",
       "    </tr>\n",
       "    <tr>\n",
       "      <th>2</th>\n",
       "      <td>0.0</td>\n",
       "      <td>0.1429</td>\n",
       "      <td>0.5714</td>\n",
       "      <td>0.0</td>\n",
       "      <td>0.0</td>\n",
       "      <td>0.1429</td>\n",
       "      <td>0.0</td>\n",
       "      <td>0.0</td>\n",
       "      <td>0.0</td>\n",
       "      <td>0.1429</td>\n",
       "      <td>...</td>\n",
       "      <td>0</td>\n",
       "      <td>0.333</td>\n",
       "      <td>0.667</td>\n",
       "      <td>0.0</td>\n",
       "      <td>0.0</td>\n",
       "      <td>0</td>\n",
       "      <td>0.117059</td>\n",
       "      <td>-0.117065</td>\n",
       "      <td>-0.096148</td>\n",
       "      <td>1</td>\n",
       "    </tr>\n",
       "    <tr>\n",
       "      <th>3</th>\n",
       "      <td>0.0</td>\n",
       "      <td>0.1429</td>\n",
       "      <td>0.5714</td>\n",
       "      <td>0.0</td>\n",
       "      <td>0.0</td>\n",
       "      <td>0.1429</td>\n",
       "      <td>0.0</td>\n",
       "      <td>0.0</td>\n",
       "      <td>0.0</td>\n",
       "      <td>0.1429</td>\n",
       "      <td>...</td>\n",
       "      <td>0</td>\n",
       "      <td>0.333</td>\n",
       "      <td>0.667</td>\n",
       "      <td>0.0</td>\n",
       "      <td>0.0</td>\n",
       "      <td>0</td>\n",
       "      <td>0.145208</td>\n",
       "      <td>-0.117065</td>\n",
       "      <td>-0.096148</td>\n",
       "      <td>1</td>\n",
       "    </tr>\n",
       "    <tr>\n",
       "      <th>4</th>\n",
       "      <td>0.0</td>\n",
       "      <td>0.1429</td>\n",
       "      <td>0.5714</td>\n",
       "      <td>0.0</td>\n",
       "      <td>0.0</td>\n",
       "      <td>0.1429</td>\n",
       "      <td>0.0</td>\n",
       "      <td>0.0</td>\n",
       "      <td>0.0</td>\n",
       "      <td>0.1429</td>\n",
       "      <td>...</td>\n",
       "      <td>0</td>\n",
       "      <td>0.333</td>\n",
       "      <td>0.667</td>\n",
       "      <td>0.0</td>\n",
       "      <td>0.0</td>\n",
       "      <td>0</td>\n",
       "      <td>0.106326</td>\n",
       "      <td>-0.117065</td>\n",
       "      <td>-0.096148</td>\n",
       "      <td>1</td>\n",
       "    </tr>\n",
       "  </tbody>\n",
       "</table>\n",
       "<p>5 rows × 35 columns</p>\n",
       "</div>"
      ]
     },
     "metadata": {},
     "output_type": "display_data"
    },
    {
     "name": "stdout",
     "output_type": "stream",
     "text": [
      "(316, 34) (316,)\n",
      "shell_number\n",
      "1    237\n",
      "0     79\n",
      "Name: count, dtype: int64\n"
     ]
    }
   ],
   "execution_count": 3
  },
  {
   "metadata": {},
   "cell_type": "markdown",
   "source": "### 数据分析",
   "id": "80a37e6ff6e4e3dd"
  },
  {
   "metadata": {
    "ExecuteTime": {
     "end_time": "2024-12-11T02:33:53.269928Z",
     "start_time": "2024-12-11T02:33:51.962365Z"
    }
   },
   "cell_type": "code",
   "source": [
    "from data_analysis import plt_pearsonr\n",
    "plt_pearsonr(df)"
   ],
   "id": "3bdc619e1f02d3c6",
   "outputs": [
    {
     "name": "stdout",
     "output_type": "stream",
     "text": [
      "(35, 35)\n"
     ]
    },
    {
     "data": {
      "text/plain": [
       "<Figure size 640x480 with 2 Axes>"
      ],
      "image/png": "[encoded data removed]"
     },
     "metadata": {},
     "output_type": "display_data"
    }
   ],
   "execution_count": 5
  },
  {
   "metadata": {},
   "cell_type": "markdown",
   "source": "### 分割数据",
   "id": "a2f63673c47eb9c8"
  },
  {
   "metadata": {
    "ExecuteTime": {
     "end_time": "2024-12-11T02:33:59.192296Z",
     "start_time": "2024-12-11T02:33:59.170810Z"
    }
   },
   "cell_type": "code",
   "source": [
    "random_state = 11\n",
    "x_train, x_test, y_train, y_test = train_test_split(x, y, test_size=0.2)\n",
    "print(x_train.shape, y_train.shape)\n",
    "print(y_train.value_counts())"
   ],
   "id": "b37b4a561ebbe5e4",
   "outputs": [
    {
     "name": "stdout",
     "output_type": "stream",
     "text": [
      "(252, 34) (252,)\n",
      "shell_number\n",
      "1    187\n",
      "0     65\n",
      "Name: count, dtype: int64\n"
     ]
    }
   ],
   "execution_count": 6
  },
  {
   "metadata": {
    "ExecuteTime": {
     "end_time": "2024-12-11T02:34:02.312952Z",
     "start_time": "2024-12-11T02:34:01.982583Z"
    }
   },
   "cell_type": "code",
   "source": [
    "from imblearn.over_sampling import RandomOverSampler\n",
    "ros = RandomOverSampler(random_state=random_state)\n",
    "x_resampled, y_resampled = ros.fit_resample(x_train, y_train)\n",
    "print(x_resampled.shape, y_resampled.shape)\n",
    "print(y_resampled.value_counts())"
   ],
   "id": "7a6e6adeeb2de038",
   "outputs": [
    {
     "name": "stdout",
     "output_type": "stream",
     "text": [
      "(374, 34) (374,)\n",
      "shell_number\n",
      "0    187\n",
      "1    187\n",
      "Name: count, dtype: int64\n"
     ]
    }
   ],
   "execution_count": 7
  },
  {
   "metadata": {},
   "cell_type": "markdown",
   "source": "### 常用模型构建",
   "id": "e5342dd238fbf3d0"
  },
  {
   "metadata": {
    "ExecuteTime": {
     "end_time": "2024-12-11T02:34:06.918609Z",
     "start_time": "2024-12-11T02:34:06.871792Z"
    }
   },
   "cell_type": "code",
   "source": [
    "\n",
    "# 神经网络模型\n",
    "mlp = MLPClassifier(\n",
    "    activation='relu',\n",
    "    solver='adam', \n",
    "    hidden_layer_sizes=(4), \n",
    "    max_iter=1000,\n",
    "    random_state=random_state\n",
    ")\n",
    "# 随机森林模型\n",
    "rf = RandomForestClassifier(random_state=random_state)\n",
    "# 梯度提升树模型\n",
    "gbdt = GradientBoostingClassifier(random_state=random_state)\n",
    "# 支持向量机\n",
    "svc = SVC(random_state=random_state)\n",
    "# k-近邻方法\n",
    "knn = KNeighborsClassifier()\n",
    "\n",
    "models = {\n",
    "    'mlp':mlp,\n",
    "    'rf':rf,\n",
    "    'gbdt':gbdt,\n",
    "    'svc':svc,\n",
    "}"
   ],
   "id": "1987d35591b45a9f",
   "outputs": [],
   "execution_count": 8
  },
  {
   "metadata": {
    "ExecuteTime": {
     "end_time": "2024-12-11T02:34:25.372084Z",
     "start_time": "2024-12-11T02:34:11.901693Z"
    }
   },
   "cell_type": "code",
   "source": [
    "from evaluate import model_evaluate\n",
    "for name, model in models.items():\n",
    "    print('***********************')\n",
    "    print(f'model: {name}')\n",
    "    model_evaluate(x_resampled, y_resampled, x_test, y_test, model)\n",
    "print('***********************')"
   ],
   "id": "9c8787e9b6ba4f31",
   "outputs": [
    {
     "name": "stdout",
     "output_type": "stream",
     "text": [
      "***********************\n",
      "model: mlp\n",
      "accuracy:0.5625, recall:0.62, precision:0.775, f1:0.6888888888888889 \n",
      "confusion matrix:\n",
      " [[ 5  9]\n",
      " [19 31]]\n",
      "***********************\n",
      "model: rf\n",
      "accuracy:0.65625, recall:0.78, precision:0.78, f1:0.78 \n",
      "confusion matrix:\n",
      " [[ 3 11]\n",
      " [11 39]]\n",
      "***********************\n",
      "model: gbdt\n",
      "accuracy:0.609375, recall:0.66, precision:0.8048780487804879, f1:0.7252747252747253 \n",
      "confusion matrix:\n",
      " [[ 6  8]\n",
      " [17 33]]\n",
      "***********************\n",
      "model: svc\n",
      "accuracy:0.515625, recall:0.52, precision:0.7878787878787878, f1:0.6265060240963856 \n",
      "confusion matrix:\n",
      " [[ 7  7]\n",
      " [24 26]]\n",
      "***********************\n"
     ]
    }
   ],
   "execution_count": 9
  },
  {
   "metadata": {
    "ExecuteTime": {
     "end_time": "2024-12-11T02:34:58.882494Z",
     "start_time": "2024-12-11T02:34:26.503158Z"
    }
   },
   "cell_type": "code",
   "source": [
    "\n",
    "from sklearn.model_selection import cross_validate, StratifiedKFold\n",
    "\n",
    "skf = StratifiedKFold(n_splits=10,shuffle=True, random_state=2)\n",
    "scoring = {\n",
    "    'accuracy': 'accuracy',\n",
    "    'recall': 'recall_macro',  # 或者使用'recall_micro', 'recall_weighted'等\n",
    "    'precision': 'precision_macro',  # 或者使用'precision_micro', 'precision_weighted'等\n",
    "    'f1': 'f1_macro',  # 或者使用'f1_micro', 'f1_weighted'等\n",
    "}\n",
    "\n",
    "# 训练并评估模型\n",
    "results = {}\n",
    "for name, model in models.items():\n",
    "    eva = {}\n",
    "    cv_results = cross_validate(model, x, y, cv=skf, scoring=scoring)\n",
    "    eva['accuracy'] = cv_results['test_accuracy'].mean()\n",
    "    eva['recall'] = cv_results['test_recall'].mean()\n",
    "    eva['precision'] = cv_results['test_precision'].mean()\n",
    "    eva['f1'] = cv_results['test_f1'].mean()\n",
    "    results[name] = eva\n",
    "for result in results:\n",
    "    print('{}: {}'.format(result, results[result]))"
   ],
   "id": "dd10ba3b1bf450a3",
   "outputs": [
    {
     "name": "stderr",
     "output_type": "stream",
     "text": [
      "C:\\Users\\wxf\\.conda\\envs\\shell-number-prediction\\Lib\\site-packages\\sklearn\\metrics\\_classification.py:1531: UndefinedMetricWarning: Precision is ill-defined and being set to 0.0 in labels with no predicted samples. Use `zero_division` parameter to control this behavior.\n",
      "  _warn_prf(average, modifier, f\"{metric.capitalize()} is\", len(result))\n",
      "C:\\Users\\wxf\\.conda\\envs\\shell-number-prediction\\Lib\\site-packages\\sklearn\\metrics\\_classification.py:1531: UndefinedMetricWarning: Precision is ill-defined and being set to 0.0 in labels with no predicted samples. Use `zero_division` parameter to control this behavior.\n",
      "  _warn_prf(average, modifier, f\"{metric.capitalize()} is\", len(result))\n",
      "C:\\Users\\wxf\\.conda\\envs\\shell-number-prediction\\Lib\\site-packages\\sklearn\\metrics\\_classification.py:1531: UndefinedMetricWarning: Precision is ill-defined and being set to 0.0 in labels with no predicted samples. Use `zero_division` parameter to control this behavior.\n",
      "  _warn_prf(average, modifier, f\"{metric.capitalize()} is\", len(result))\n",
      "C:\\Users\\wxf\\.conda\\envs\\shell-number-prediction\\Lib\\site-packages\\sklearn\\metrics\\_classification.py:1531: UndefinedMetricWarning: Precision is ill-defined and being set to 0.0 in labels with no predicted samples. Use `zero_division` parameter to control this behavior.\n",
      "  _warn_prf(average, modifier, f\"{metric.capitalize()} is\", len(result))\n",
      "C:\\Users\\wxf\\.conda\\envs\\shell-number-prediction\\Lib\\site-packages\\sklearn\\metrics\\_classification.py:1531: UndefinedMetricWarning: Precision is ill-defined and being set to 0.0 in labels with no predicted samples. Use `zero_division` parameter to control this behavior.\n",
      "  _warn_prf(average, modifier, f\"{metric.capitalize()} is\", len(result))\n",
      "C:\\Users\\wxf\\.conda\\envs\\shell-number-prediction\\Lib\\site-packages\\sklearn\\metrics\\_classification.py:1531: UndefinedMetricWarning: Precision is ill-defined and being set to 0.0 in labels with no predicted samples. Use `zero_division` parameter to control this behavior.\n",
      "  _warn_prf(average, modifier, f\"{metric.capitalize()} is\", len(result))\n"
     ]
    },
    {
     "name": "stdout",
     "output_type": "stream",
     "text": [
      "mlp: {'accuracy': 0.7372983870967742, 'recall': 0.49148550724637685, 'precision': 0.37333333333333335, 'f1': 0.42431275921841954}\n",
      "rf: {'accuracy': 0.7055443548387098, 'recall': 0.5626682194616979, 'precision': 0.5846333111333111, 'f1': 0.5606839717712023}\n",
      "gbdt: {'accuracy': 0.7434475806451614, 'recall': 0.5968944099378881, 'precision': 0.6419851444851444, 'f1': 0.6043915412318774}\n",
      "svc: {'accuracy': 0.7500000000000001, 'recall': 0.5, 'precision': 0.37500000000000006, 'f1': 0.4285569985569985}\n"
     ]
    },
    {
     "name": "stderr",
     "output_type": "stream",
     "text": [
      "C:\\Users\\wxf\\.conda\\envs\\shell-number-prediction\\Lib\\site-packages\\sklearn\\metrics\\_classification.py:1531: UndefinedMetricWarning: Precision is ill-defined and being set to 0.0 in labels with no predicted samples. Use `zero_division` parameter to control this behavior.\n",
      "  _warn_prf(average, modifier, f\"{metric.capitalize()} is\", len(result))\n",
      "C:\\Users\\wxf\\.conda\\envs\\shell-number-prediction\\Lib\\site-packages\\sklearn\\metrics\\_classification.py:1531: UndefinedMetricWarning: Precision is ill-defined and being set to 0.0 in labels with no predicted samples. Use `zero_division` parameter to control this behavior.\n",
      "  _warn_prf(average, modifier, f\"{metric.capitalize()} is\", len(result))\n",
      "C:\\Users\\wxf\\.conda\\envs\\shell-number-prediction\\Lib\\site-packages\\sklearn\\metrics\\_classification.py:1531: UndefinedMetricWarning: Precision is ill-defined and being set to 0.0 in labels with no predicted samples. Use `zero_division` parameter to control this behavior.\n",
      "  _warn_prf(average, modifier, f\"{metric.capitalize()} is\", len(result))\n",
      "C:\\Users\\wxf\\.conda\\envs\\shell-number-prediction\\Lib\\site-packages\\sklearn\\metrics\\_classification.py:1531: UndefinedMetricWarning: Precision is ill-defined and being set to 0.0 in labels with no predicted samples. Use `zero_division` parameter to control this behavior.\n",
      "  _warn_prf(average, modifier, f\"{metric.capitalize()} is\", len(result))\n",
      "C:\\Users\\wxf\\.conda\\envs\\shell-number-prediction\\Lib\\site-packages\\sklearn\\metrics\\_classification.py:1531: UndefinedMetricWarning: Precision is ill-defined and being set to 0.0 in labels with no predicted samples. Use `zero_division` parameter to control this behavior.\n",
      "  _warn_prf(average, modifier, f\"{metric.capitalize()} is\", len(result))\n",
      "C:\\Users\\wxf\\.conda\\envs\\shell-number-prediction\\Lib\\site-packages\\sklearn\\metrics\\_classification.py:1531: UndefinedMetricWarning: Precision is ill-defined and being set to 0.0 in labels with no predicted samples. Use `zero_division` parameter to control this behavior.\n",
      "  _warn_prf(average, modifier, f\"{metric.capitalize()} is\", len(result))\n",
      "C:\\Users\\wxf\\.conda\\envs\\shell-number-prediction\\Lib\\site-packages\\sklearn\\metrics\\_classification.py:1531: UndefinedMetricWarning: Precision is ill-defined and being set to 0.0 in labels with no predicted samples. Use `zero_division` parameter to control this behavior.\n",
      "  _warn_prf(average, modifier, f\"{metric.capitalize()} is\", len(result))\n",
      "C:\\Users\\wxf\\.conda\\envs\\shell-number-prediction\\Lib\\site-packages\\sklearn\\metrics\\_classification.py:1531: UndefinedMetricWarning: Precision is ill-defined and being set to 0.0 in labels with no predicted samples. Use `zero_division` parameter to control this behavior.\n",
      "  _warn_prf(average, modifier, f\"{metric.capitalize()} is\", len(result))\n",
      "C:\\Users\\wxf\\.conda\\envs\\shell-number-prediction\\Lib\\site-packages\\sklearn\\metrics\\_classification.py:1531: UndefinedMetricWarning: Precision is ill-defined and being set to 0.0 in labels with no predicted samples. Use `zero_division` parameter to control this behavior.\n",
      "  _warn_prf(average, modifier, f\"{metric.capitalize()} is\", len(result))\n",
      "C:\\Users\\wxf\\.conda\\envs\\shell-number-prediction\\Lib\\site-packages\\sklearn\\metrics\\_classification.py:1531: UndefinedMetricWarning: Precision is ill-defined and being set to 0.0 in labels with no predicted samples. Use `zero_division` parameter to control this behavior.\n",
      "  _warn_prf(average, modifier, f\"{metric.capitalize()} is\", len(result))\n"
     ]
    }
   ],
   "execution_count": 10
  },
  {
   "metadata": {
    "ExecuteTime": {
     "end_time": "2024-12-11T02:34:59.724427Z",
     "start_time": "2024-12-11T02:34:59.259531Z"
    }
   },
   "cell_type": "code",
   "source": [
    "df1 = pd.read_csv('./data/descriptor.csv')\n",
    "plt_pearsonr(df1)"
   ],
   "id": "77bdce8fb27558f1",
   "outputs": [
    {
     "name": "stdout",
     "output_type": "stream",
     "text": [
      "(35, 35)\n"
     ]
    },
    {
     "data": {
      "text/plain": [
       "<Figure size 640x480 with 2 Axes>"
      ],
      "image/png": "[encoded data removed]"
     },
     "metadata": {},
     "output_type": "display_data"
    }
   ],
   "execution_count": 11
  },
  {
   "metadata": {},
   "cell_type": "code",
   "outputs": [],
   "execution_count": null,
   "source": "",
   "id": "3af1b672f5299a50"
  }
 ],
 "metadata": {
  "kernelspec": {
   "display_name": "Python 3",
   "language": "python",
   "name": "python3"
  },
  "language_info": {
   "codemirror_mode": {
    "name": "ipython",
    "version": 2
   },
   "file_extension": ".py",
   "mimetype": "text/x-python",
   "name": "python",
   "nbconvert_exporter": "python",
   "pygments_lexer": "ipython2",
   "version": "2.7.6"
  }
 },
 "nbformat": 4,
 "nbformat_minor": 5
}
